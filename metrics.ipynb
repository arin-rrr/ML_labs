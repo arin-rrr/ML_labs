{
  "nbformat": 4,
  "nbformat_minor": 0,
  "metadata": {
    "colab": {
      "provenance": []
    },
    "kernelspec": {
      "name": "python3",
      "display_name": "Python 3"
    },
    "language_info": {
      "name": "python"
    }
  },
  "cells": [
    {
      "cell_type": "markdown",
      "source": [
        "**Эффективный подход - подбор метрики под конкретную задачу. Моя задача: выбор метрики из некоторого класса метрик (основа - метрика Минковского, где параметр - число p)**"
      ],
      "metadata": {
        "id": "Zag0-NSEKuWq"
      }
    },
    {
      "cell_type": "markdown",
      "source": [
        "# Импортируем датасет Boston, решаем задачу регрессии для предсказания стоимости жилья на основе разных характеристик"
      ],
      "metadata": {
        "id": "CNCPNjO7Ls8m"
      }
    },
    {
      "cell_type": "code",
      "execution_count": 3,
      "metadata": {
        "id": "YtLg4VjpKAHr"
      },
      "outputs": [],
      "source": [
        "from sklearn import datasets\n",
        "import pandas as pd\n",
        "import numpy as np"
      ]
    },
    {
      "cell_type": "code",
      "source": [
        "data_url = \"http://lib.stat.cmu.edu/datasets/boston\"\n",
        "dataset = pd.read_csv(data_url, sep=\"\\s+\", skiprows=22, header=None)"
      ],
      "metadata": {
        "id": "4rLUtCmmMdkd"
      },
      "execution_count": 9,
      "outputs": []
    },
    {
      "cell_type": "code",
      "source": [
        "data = np.hstack([dataset.values[::2, :], dataset.values[1::2, :2]])\n",
        "target = dataset.values[1::2, 2]"
      ],
      "metadata": {
        "id": "f-0IcMz1Nin5"
      },
      "execution_count": 10,
      "outputs": []
    },
    {
      "cell_type": "markdown",
      "source": [
        "# Масштабируем данные"
      ],
      "metadata": {
        "id": "XyaJWsOWN_7o"
      }
    },
    {
      "cell_type": "code",
      "source": [
        "from sklearn.preprocessing import scale"
      ],
      "metadata": {
        "id": "X7KI4GwvNw2R"
      },
      "execution_count": 11,
      "outputs": []
    },
    {
      "cell_type": "code",
      "source": [
        "data_scale = scale(data)"
      ],
      "metadata": {
        "id": "k3XkwA8ZOKhC"
      },
      "execution_count": 12,
      "outputs": []
    },
    {
      "cell_type": "markdown",
      "source": [
        "# Решаем задачу регрессии через kNN"
      ],
      "metadata": {
        "id": "dl71TRqhObgf"
      }
    },
    {
      "cell_type": "code",
      "source": [
        "from sklearn.neighbors import KNeighborsRegressor\n",
        "from sklearn.model_selection import cross_val_score, KFold"
      ],
      "metadata": {
        "id": "fonue-EBOpJw"
      },
      "execution_count": 29,
      "outputs": []
    },
    {
      "cell_type": "code",
      "source": [
        "neigh = KNeighborsRegressor(n_neighbors=5, weights='distance', p=1)  # параметр weights добавляет в алгоритм веса\n",
        "cv = KFold(n_splits=5, shuffle=True, random_state=42)\n",
        "cross_val = cross_val_score(neigh, data_scale, target, cv=cv, scoring='neg_mean_squared_error')"
      ],
      "metadata": {
        "id": "CA0JYH0EPHTV"
      },
      "execution_count": 30,
      "outputs": []
    },
    {
      "cell_type": "code",
      "source": [
        "np.mean(cross_val)"
      ],
      "metadata": {
        "colab": {
          "base_uri": "https://localhost:8080/"
        },
        "id": "6dnyAC5wQjId",
        "outputId": "80f68a99-f063-44db-8473-7377c3d0e1ea"
      },
      "execution_count": 31,
      "outputs": [
        {
          "output_type": "execute_result",
          "data": {
            "text/plain": [
              "np.float64(-16.030646734221644)"
            ]
          },
          "metadata": {},
          "execution_count": 31
        }
      ]
    },
    {
      "cell_type": "markdown",
      "source": [
        "# Подбираем оптимальный параметр p"
      ],
      "metadata": {
        "id": "V0hHs4bEQzDt"
      }
    },
    {
      "cell_type": "code",
      "source": [
        "param = np.linspace(1, 10, 200)"
      ],
      "metadata": {
        "id": "-dpSBf7bRsE0"
      },
      "execution_count": 21,
      "outputs": []
    },
    {
      "cell_type": "code",
      "source": [
        "accuracy = {}\n",
        "\n",
        "p = -1\n",
        "maxi = -(10**3)\n",
        "\n",
        "for i in param:\n",
        "  knn = KNeighborsRegressor(n_neighbors=5, weights='distance', p=i)\n",
        "  cross_val = cross_val_score(neigh, data_scale, target, cv=cv, scoring='neg_mean_squared_error')\n",
        "  accuracy[float(i)] = float(np.mean(cross_val))\n",
        "\n",
        "  if accuracy[float(i)] > maxi:\n",
        "    maxi = accuracy[float(i)]\n",
        "    p = i"
      ],
      "metadata": {
        "id": "j64ODRlrSCIs"
      },
      "execution_count": 34,
      "outputs": []
    },
    {
      "cell_type": "code",
      "source": [
        "print(f\"Оптимальный параметр p = {p}, MSE = {maxi}\")"
      ],
      "metadata": {
        "colab": {
          "base_uri": "https://localhost:8080/"
        },
        "id": "9r_7yKz3SnhO",
        "outputId": "8478b8a5-afc2-4aea-bd43-30192d1d090f"
      },
      "execution_count": 36,
      "outputs": [
        {
          "output_type": "stream",
          "name": "stdout",
          "text": [
            "Оптимальный параметр p = 1.0, MSE = -16.030646734221644\n"
          ]
        }
      ]
    }
  ]
}